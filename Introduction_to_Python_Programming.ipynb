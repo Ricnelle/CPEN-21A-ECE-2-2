{
  "nbformat": 4,
  "nbformat_minor": 0,
  "metadata": {
    "colab": {
      "name": "Introduction to Python Programming",
      "provenance": [],
      "authorship_tag": "ABX9TyM/cDs/G+JuAntmUYa6z73H",
      "include_colab_link": true
    },
    "kernelspec": {
      "name": "python3",
      "display_name": "Python 3"
    },
    "language_info": {
      "name": "python"
    }
  },
  "cells": [
    {
      "cell_type": "markdown",
      "metadata": {
        "id": "view-in-github",
        "colab_type": "text"
      },
      "source": [
        "<a href=\"https://colab.research.google.com/github/Ricnelle/CPEN-21A-ECE-2-2/blob/main/Introduction_to_Python_Programming.ipynb\" target=\"_parent\"><img src=\"https://colab.research.google.com/assets/colab-badge.svg\" alt=\"Open In Colab\"/></a>"
      ]
    },
    {
      "cell_type": "markdown",
      "metadata": {
        "id": "9CXLEvX-iNzb"
      },
      "source": [
        "#Review of Python\n"
      ]
    },
    {
      "cell_type": "code",
      "metadata": {
        "id": "q8NBI7leiwfA"
      },
      "source": [
        "print (\"Hello World!\")"
      ],
      "execution_count": null,
      "outputs": []
    },
    {
      "cell_type": "code",
      "metadata": {
        "colab": {
          "base_uri": "https://localhost:8080/"
        },
        "id": "gHk3Aeuekm1W",
        "outputId": "70fb595d-92b3-47ec-ef11-c7bcd627ea8b"
      },
      "source": [
        "b='Sally'\n",
        "print (b)"
      ],
      "execution_count": 8,
      "outputs": [
        {
          "output_type": "stream",
          "name": "stdout",
          "text": [
            "Sally\n"
          ]
        }
      ]
    },
    {
      "cell_type": "code",
      "metadata": {
        "colab": {
          "base_uri": "https://localhost:8080/"
        },
        "id": "lKd34e-WlJYx",
        "outputId": "1ec10c90-bc7a-4c5f-c7f5-3fd98dd2a265"
      },
      "source": [
        "b = float(4.123)\n",
        "print(round,((b),(2)))"
      ],
      "execution_count": 15,
      "outputs": [
        {
          "output_type": "stream",
          "name": "stdout",
          "text": [
            "<built-in function round> (4.123, 2)\n"
          ]
        }
      ]
    },
    {
      "cell_type": "code",
      "metadata": {
        "colab": {
          "base_uri": "https://localhost:8080/"
        },
        "id": "zW2PJxVqlyPK",
        "outputId": "00ff3f5c-45ef-4fcc-d086-a4e6c89761ff"
      },
      "source": [
        "x= 5\n",
        "y= \"Lloyd\"\n",
        "print(type(x))\n",
        "print(type(y))"
      ],
      "execution_count": 19,
      "outputs": [
        {
          "output_type": "stream",
          "name": "stdout",
          "text": [
            "<class 'int'>\n",
            "<class 'str'>\n"
          ]
        }
      ]
    },
    {
      "cell_type": "code",
      "metadata": {
        "colab": {
          "base_uri": "https://localhost:8080/"
        },
        "id": "KUnV1wU9mP_a",
        "outputId": "2139587f-b515-4494-efde-c36a45148ecf"
      },
      "source": [
        "a=4\n",
        "A='Sally'\n",
        "#A will not ovewrite a,\n",
        "print(a)"
      ],
      "execution_count": 25,
      "outputs": [
        {
          "output_type": "stream",
          "name": "stdout",
          "text": [
            "4\n"
          ]
        }
      ]
    },
    {
      "cell_type": "code",
      "metadata": {
        "colab": {
          "base_uri": "https://localhost:8080/"
        },
        "id": "vd1tOwSGmxrQ",
        "outputId": "c136498a-c9f9-4a06-a5be-1bab8caec4a7"
      },
      "source": [
        "x,y,z = \"Ricnelle\",\"L\",\"Macalindong\"\n",
        "print(x)\n",
        "print(y)\n",
        "print(z)\n"
      ],
      "execution_count": 32,
      "outputs": [
        {
          "output_type": "stream",
          "name": "stdout",
          "text": [
            "Ricnelle\n",
            "L\n",
            "Macalindong\n"
          ]
        }
      ]
    },
    {
      "cell_type": "code",
      "metadata": {
        "colab": {
          "base_uri": "https://localhost:8080/"
        },
        "id": "QoxHDjVPnjni",
        "outputId": "463cc512-4d0d-4bed-daa4-06797125a1b3"
      },
      "source": [
        "x ='enjoying'\n",
        "print (\"Python Programming is \" +x)"
      ],
      "execution_count": 37,
      "outputs": [
        {
          "output_type": "stream",
          "name": "stdout",
          "text": [
            "Python Programming is enjoying\n"
          ]
        }
      ]
    },
    {
      "cell_type": "code",
      "metadata": {
        "colab": {
          "base_uri": "https://localhost:8080/"
        },
        "id": "CrIhYHu7oc-_",
        "outputId": "8c68cf42-d3e5-43bc-e14a-26acfecdfdb4"
      },
      "source": [
        "x=\"Python \"\n",
        "y=\"Programming \"\n",
        "z=\"is \"\n",
        "a=\"enjoying!\"\n",
        "b=x+y+z+a\n",
        "print(b)"
      ],
      "execution_count": 40,
      "outputs": [
        {
          "output_type": "stream",
          "name": "stdout",
          "text": [
            "Python Programming is enjoying!\n"
          ]
        }
      ]
    },
    {
      "cell_type": "code",
      "metadata": {
        "colab": {
          "base_uri": "https://localhost:8080/"
        },
        "id": "blkmOasFo2yb",
        "outputId": "6e1fe203-26d8-4d8e-ac6d-da065709bbec"
      },
      "source": [
        "x=3\n",
        "y=25\n",
        "sum = x+y\n",
        "print(sum)"
      ],
      "execution_count": 43,
      "outputs": [
        {
          "output_type": "stream",
          "name": "stdout",
          "text": [
            "28\n"
          ]
        }
      ]
    },
    {
      "cell_type": "code",
      "metadata": {
        "colab": {
          "base_uri": "https://localhost:8080/"
        },
        "id": "QTGLD-lapSvP",
        "outputId": "183e89fb-31a3-4598-8250-6cad32ce69dd"
      },
      "source": [
        "a,b,c=0,-1,8\n",
        "c%=3\n",
        "print(c)"
      ],
      "execution_count": 46,
      "outputs": [
        {
          "output_type": "stream",
          "name": "stdout",
          "text": [
            "2\n"
          ]
        }
      ]
    },
    {
      "cell_type": "code",
      "metadata": {
        "colab": {
          "base_uri": "https://localhost:8080/"
        },
        "id": "inpPBvatqGkC",
        "outputId": "87171221-9971-4902-b8bf-c558cf3a2a16"
      },
      "source": [
        "x=5\n",
        "x<6 and x<10\n"
      ],
      "execution_count": 51,
      "outputs": [
        {
          "output_type": "execute_result",
          "data": {
            "text/plain": [
              "True"
            ]
          },
          "metadata": {},
          "execution_count": 51
        }
      ]
    },
    {
      "cell_type": "code",
      "metadata": {
        "colab": {
          "base_uri": "https://localhost:8080/"
        },
        "id": "gtqmrPo-qfkl",
        "outputId": "bffc08de-c849-487b-dac6-6612eb9988c8"
      },
      "source": [
        "y=6\n",
        "y<6 or y>10"
      ],
      "execution_count": 53,
      "outputs": [
        {
          "output_type": "execute_result",
          "data": {
            "text/plain": [
              "False"
            ]
          },
          "metadata": {},
          "execution_count": 53
        }
      ]
    },
    {
      "cell_type": "code",
      "metadata": {
        "colab": {
          "base_uri": "https://localhost:8080/"
        },
        "id": "613NghEnq0Lj",
        "outputId": "f009a25b-b64a-478b-8f1a-a230ec02bc7c"
      },
      "source": [
        "y=7\n",
        "(y<8 ^ y<8)"
      ],
      "execution_count": 59,
      "outputs": [
        {
          "output_type": "execute_result",
          "data": {
            "text/plain": [
              "False"
            ]
          },
          "metadata": {},
          "execution_count": 59
        }
      ]
    },
    {
      "cell_type": "code",
      "metadata": {
        "id": "wkBWnIQRrjna"
      },
      "source": [
        ""
      ],
      "execution_count": null,
      "outputs": []
    }
  ]
}