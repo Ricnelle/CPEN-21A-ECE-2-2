{
  "nbformat": 4,
  "nbformat_minor": 0,
  "metadata": {
    "colab": {
      "name": "Lab1.ipynb",
      "provenance": [],
      "authorship_tag": "ABX9TyNf2tLFeqL/pjiwpX/tRTUf",
      "include_colab_link": true
    },
    "kernelspec": {
      "name": "python3",
      "display_name": "Python 3"
    },
    "language_info": {
      "name": "python"
    }
  },
  "cells": [
    {
      "cell_type": "markdown",
      "metadata": {
        "id": "view-in-github",
        "colab_type": "text"
      },
      "source": [
        "<a href=\"https://colab.research.google.com/github/Ricnelle/CPEN21A-ECE-2-2/blob/main/Lab1.ipynb\" target=\"_parent\"><img src=\"https://colab.research.google.com/assets/colab-badge.svg\" alt=\"Open In Colab\"/></a>"
      ]
    },
    {
      "cell_type": "markdown",
      "metadata": {
        "id": "xR_IIS5rcBUL"
      },
      "source": [
        "#Laboratory 1"
      ]
    },
    {
      "cell_type": "code",
      "metadata": {
        "colab": {
          "base_uri": "https://localhost:8080/"
        },
        "id": "TItvR9kXcQ8H",
        "outputId": "7c417f00-70ca-4651-d01c-f3efbe896f4e"
      },
      "source": [
        "print (\"Welcome to Python Programming\")"
      ],
      "execution_count": 1,
      "outputs": [
        {
          "output_type": "stream",
          "name": "stdout",
          "text": [
            "Welcome to Python Programming\n"
          ]
        }
      ]
    },
    {
      "cell_type": "code",
      "metadata": {
        "colab": {
          "base_uri": "https://localhost:8080/"
        },
        "id": "pfbTYWR6cZbc",
        "outputId": "0eedbeb8-c8fe-403e-96ef-c62c5ebeb389"
      },
      "source": [
        "x=\"Name: \"\n",
        "X=\"Ricnelle L. Macalindong\"\n",
        "y= \"Address: \"\n",
        "Y= \"Block 8, Lot 14, Regina Ville 2000, Inocencio, Trece Martires City, Cavite\"\n",
        "z= \"Age: \"\n",
        "Z= \"19\"\n",
        "print (x+X)\n",
        "print (y+Y)\n",
        "print (z+Z)"
      ],
      "execution_count": 8,
      "outputs": [
        {
          "output_type": "stream",
          "name": "stdout",
          "text": [
            "Name: Ricnelle L. Macalindong\n",
            "Address: Block 8, Lot 14, Regina Ville 2000, Inocencio, Trece Martires City, Cavite\n",
            "Age: 19\n"
          ]
        }
      ]
    }
  ]
}