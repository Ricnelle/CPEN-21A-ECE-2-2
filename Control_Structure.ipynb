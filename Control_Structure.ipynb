{
  "nbformat": 4,
  "nbformat_minor": 0,
  "metadata": {
    "colab": {
      "name": "Control Structure.ipynb",
      "provenance": [],
      "authorship_tag": "ABX9TyPrFN4sOUjvxHPCClBRJXNI",
      "include_colab_link": true
    },
    "kernelspec": {
      "name": "python3",
      "display_name": "Python 3"
    },
    "language_info": {
      "name": "python"
    }
  },
  "cells": [
    {
      "cell_type": "markdown",
      "metadata": {
        "id": "view-in-github",
        "colab_type": "text"
      },
      "source": [
        "<a href=\"https://colab.research.google.com/github/Ricnelle/CPEN-21A-ECE-2-2/blob/main/Control_Structure.ipynb\" target=\"_parent\"><img src=\"https://colab.research.google.com/assets/colab-badge.svg\" alt=\"Open In Colab\"/></a>"
      ]
    },
    {
      "cell_type": "markdown",
      "metadata": {
        "id": "rmSminm-xS92"
      },
      "source": [
        "##If Statement"
      ]
    },
    {
      "cell_type": "code",
      "metadata": {
        "colab": {
          "base_uri": "https://localhost:8080/"
        },
        "id": "FJUmNihqxmnL",
        "outputId": "cd085954-012e-425b-b4b5-25eb7b659a18"
      },
      "source": [
        "a=12\n",
        "b=100\n",
        "if b>a:\n",
        "  print(\"b is greater than a\")"
      ],
      "execution_count": 10,
      "outputs": [
        {
          "output_type": "stream",
          "name": "stdout",
          "text": [
            "b is greater than a\n"
          ]
        }
      ]
    },
    {
      "cell_type": "markdown",
      "metadata": {
        "id": "gvnyI0thyjX6"
      },
      "source": [
        "##Elif Statement"
      ]
    },
    {
      "cell_type": "code",
      "metadata": {
        "colab": {
          "base_uri": "https://localhost:8080/"
        },
        "id": "7m-De0x6ymVD",
        "outputId": "ae57820c-90de-4f52-c833-893c9d10e98b"
      },
      "source": [
        "a=12\n",
        "b=100\n",
        "if b<a:\n",
        "  print(\"b is less than a\")\n",
        "elif b>a:\n",
        "  print(\"b is greater than a\")"
      ],
      "execution_count": 11,
      "outputs": [
        {
          "output_type": "stream",
          "name": "stdout",
          "text": [
            "b is greater than a\n"
          ]
        }
      ]
    },
    {
      "cell_type": "markdown",
      "metadata": {
        "id": "lEP_La6UzAte"
      },
      "source": [
        "##Else Statement"
      ]
    },
    {
      "cell_type": "code",
      "metadata": {
        "colab": {
          "base_uri": "https://localhost:8080/"
        },
        "id": "qoeeWPetzC1b",
        "outputId": "8a7b49b6-f475-4243-eac9-ab0a1e878bfc"
      },
      "source": [
        "a=12\n",
        "b=12\n",
        "if b<a:\n",
        "  print(\"b is less than a\")\n",
        "elif b>a:\n",
        "  print(\"b is greater than a\")\n",
        "else:\n",
        "  print(\"a is equal to b\")"
      ],
      "execution_count": 15,
      "outputs": [
        {
          "output_type": "stream",
          "name": "stdout",
          "text": [
            "a is equal to b\n"
          ]
        }
      ]
    },
    {
      "cell_type": "markdown",
      "metadata": {
        "id": "1tjA7CI2zucg"
      },
      "source": [
        "##Short Hand If...Else"
      ]
    },
    {
      "cell_type": "code",
      "metadata": {
        "colab": {
          "base_uri": "https://localhost:8080/"
        },
        "id": "Sp6zuGb6zztu",
        "outputId": "46b7a6d4-8cd9-4b26-99d6-70760e25c5a2"
      },
      "source": [
        "a= 420\n",
        "b= 330\n",
        "print(\"A\") if a>b else print(\"B\")"
      ],
      "execution_count": 17,
      "outputs": [
        {
          "output_type": "stream",
          "name": "stdout",
          "text": [
            "A\n"
          ]
        }
      ]
    },
    {
      "cell_type": "markdown",
      "metadata": {
        "id": "UKIcRvBM1I8M"
      },
      "source": [
        "And Condition"
      ]
    },
    {
      "cell_type": "code",
      "metadata": {
        "colab": {
          "base_uri": "https://localhost:8080/"
        },
        "id": "XHWFrUYk1PcZ",
        "outputId": "4e604e25-93bf-4901-8481-b5accaaad9a5"
      },
      "source": [
        "a=200\n",
        "b=33\n",
        "c=500\n",
        "\n",
        "if a>b and a<c:\n",
        "  print(\"The conditions need to be True\")"
      ],
      "execution_count": 23,
      "outputs": [
        {
          "output_type": "stream",
          "name": "stdout",
          "text": [
            "The conditions need to be True\n"
          ]
        }
      ]
    },
    {
      "cell_type": "markdown",
      "metadata": {
        "id": "D_goa3LZ2GCZ"
      },
      "source": [
        "Or Condition"
      ]
    },
    {
      "cell_type": "code",
      "metadata": {
        "colab": {
          "base_uri": "https://localhost:8080/"
        },
        "id": "Wev5Lijz2Hqw",
        "outputId": "60ff6ad4-cbc3-4d9f-e549-9bbacb482544"
      },
      "source": [
        "a=200\n",
        "b=33\n",
        "c=500\n",
        "\n",
        "if a>b or a<b:\n",
        "  print(\"One of the conditions is True\")"
      ],
      "execution_count": 29,
      "outputs": [
        {
          "output_type": "stream",
          "name": "stdout",
          "text": [
            "One of the conditions is True\n"
          ]
        }
      ]
    },
    {
      "cell_type": "markdown",
      "metadata": {
        "id": "ZxhbX0vx209C"
      },
      "source": [
        "Nested If"
      ]
    },
    {
      "cell_type": "code",
      "metadata": {
        "colab": {
          "base_uri": "https://localhost:8080/"
        },
        "id": "fQuCD6Ii23o6",
        "outputId": "ae4e7ce7-3e01-4d11-a92a-7469c136866f"
      },
      "source": [
        "a=41\n",
        "if a>10:\n",
        "  print(\"Above 10\") \n",
        "  if a>20:\n",
        "    print(\"Above 20\")\n",
        "  else:\n",
        "    print(\"but not above 20.\")"
      ],
      "execution_count": 40,
      "outputs": [
        {
          "output_type": "stream",
          "name": "stdout",
          "text": [
            "Above 10\n",
            "Above 20\n"
          ]
        }
      ]
    },
    {
      "cell_type": "markdown",
      "metadata": {
        "id": "wtYene6O4GrU"
      },
      "source": [
        "Nested If...Else"
      ]
    },
    {
      "cell_type": "code",
      "metadata": {
        "colab": {
          "base_uri": "https://localhost:8080/"
        },
        "id": "srBoC1mP4I5t",
        "outputId": "728e96ea-80ef-4e1a-bb66-4ff2e231570e"
      },
      "source": [
        "a=4\n",
        "if a>10:\n",
        "  print(\"Above 10\") \n",
        "  if a>20:\n",
        "    print(\"Above 20\")\n",
        "  else:\n",
        "    print(\"but not above 20.\")\n",
        "else:\n",
        "  print(\"Below 10\")"
      ],
      "execution_count": 44,
      "outputs": [
        {
          "output_type": "stream",
          "name": "stdout",
          "text": [
            "Below 10\n"
          ]
        }
      ]
    },
    {
      "cell_type": "markdown",
      "metadata": {
        "id": "d1IRV0zi4xrT"
      },
      "source": [
        "##Example 1\n",
        "Write a program that determines if the input age is qualified to vote or not.The qualifying age is 18 years old and above.\n",
        "\n"
      ]
    },
    {
      "cell_type": "code",
      "metadata": {
        "colab": {
          "base_uri": "https://localhost:8080/"
        },
        "id": "JNXK5KhH4znz",
        "outputId": "03de0b74-395a-434c-f19e-d9d4d590c4f3"
      },
      "source": [
        "age=17 #x represents age.\n",
        "\n",
        "if age>=18:\n",
        "  print(\"You are qualified to Vote\")\n",
        "else:\n",
        "  print(\"You are not qualified to Vote\")"
      ],
      "execution_count": 59,
      "outputs": [
        {
          "output_type": "stream",
          "name": "stdout",
          "text": [
            "You are not qualified to Vote\n"
          ]
        }
      ]
    },
    {
      "cell_type": "markdown",
      "metadata": {
        "id": "PVeEQjfN7cb1"
      },
      "source": [
        "##Example 2\n",
        "Write a program that determines if the input number is POSITIVE or NEGATIVE.Consider 0 as positive (considering that it contains no negative sign)."
      ]
    },
    {
      "cell_type": "code",
      "metadata": {
        "colab": {
          "base_uri": "https://localhost:8080/"
        },
        "id": "mT8pDlCM7puF",
        "outputId": "029a3af8-3d98-4bee-9a92-7d323e56d089"
      },
      "source": [
        "num=int(input(\"Input a Number:\"))\n",
        "\n",
        "if num>=0:\n",
        "  print(\"POSITIVE\")\n",
        "else:\n",
        "  print(\"NEGATIVE\")"
      ],
      "execution_count": 73,
      "outputs": [
        {
          "output_type": "stream",
          "name": "stdout",
          "text": [
            "Input a Number:0\n",
            "POSITIVE\n"
          ]
        }
      ]
    },
    {
      "cell_type": "markdown",
      "metadata": {
        "id": "KqtOqzSn-JWu"
      },
      "source": [
        "##Example 3\n",
        "Write a program to determin if the grades are: grade>=75, \"Passed\"\n",
        "grade=74, \"Remedial\"\n",
        "grade<74, \"Failed\""
      ]
    },
    {
      "cell_type": "code",
      "metadata": {
        "colab": {
          "base_uri": "https://localhost:8080/"
        },
        "id": "luh3-j1V-n5z",
        "outputId": "5c1ec442-f4b2-4bbd-885f-7ba6cdc66f24"
      },
      "source": [
        "grade=int(input(\"Input your Grade:\"))\n",
        "if grade>=75:\n",
        "  print(\"Passed\")\n",
        "elif grade==74:\n",
        "  print(\"Remedial\")\n",
        "else:\n",
        "  print(\"Failed\")"
      ],
      "execution_count": 80,
      "outputs": [
        {
          "output_type": "stream",
          "name": "stdout",
          "text": [
            "Input your Grade:98\n",
            "Passed\n"
          ]
        }
      ]
    }
  ]
}