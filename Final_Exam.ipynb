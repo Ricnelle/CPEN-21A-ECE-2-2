{
  "nbformat": 4,
  "nbformat_minor": 0,
  "metadata": {
    "colab": {
      "name": "Final Exam.ipynb",
      "provenance": [],
      "authorship_tag": "ABX9TyP1Gvw1+Z5dzT0TUYrtrFFP",
      "include_colab_link": true
    },
    "kernelspec": {
      "name": "python3",
      "display_name": "Python 3"
    },
    "language_info": {
      "name": "python"
    }
  },
  "cells": [
    {
      "cell_type": "markdown",
      "metadata": {
        "id": "view-in-github",
        "colab_type": "text"
      },
      "source": [
        "<a href=\"https://colab.research.google.com/github/Ricnelle/CPEN-21A-ECE-2-2/blob/main/Final_Exam.ipynb\" target=\"_parent\"><img src=\"https://colab.research.google.com/assets/colab-badge.svg\" alt=\"Open In Colab\"/></a>"
      ]
    },
    {
      "cell_type": "markdown",
      "source": [
        "#Final Exam"
      ],
      "metadata": {
        "id": "av19oBwAv6Jg"
      }
    },
    {
      "cell_type": "markdown",
      "source": [
        "###Problem Statement No. 1\n",
        "Create a Python program that will produce an output of sum of 10 numbers less than 5 using FOR LOOP statement."
      ],
      "metadata": {
        "id": "3BqLDpx1wL5k"
      }
    },
    {
      "cell_type": "code",
      "source": [
        "#INPUT\n",
        "x= 0\n",
        "y= 1\n",
        "#PROCESS AND OUTPUT\n",
        "for n in range(10):\n",
        "  print(\"Enter Number: \")\n",
        "  num=int(input())\n",
        "  y+=1\n",
        "  if num<5:\n",
        "    x=x+num\n",
        "print(\"The sum of the numbers less than 5: \",x)\n",
        "\n"
      ],
      "metadata": {
        "colab": {
          "base_uri": "https://localhost:8080/"
        },
        "id": "MYgRgjgcv-dB",
        "outputId": "128ff78c-9770-469f-90a1-6f855ef9e6cb"
      },
      "execution_count": 18,
      "outputs": [
        {
          "output_type": "stream",
          "name": "stdout",
          "text": [
            "Enter Number: \n",
            "1\n",
            "Enter Number: \n",
            "2\n",
            "Enter Number: \n",
            "3\n",
            "Enter Number: \n",
            "4\n",
            "Enter Number: \n",
            "5\n",
            "Enter Number: \n",
            "6\n",
            "Enter Number: \n",
            "7\n",
            "Enter Number: \n",
            "8\n",
            "Enter Number: \n",
            "9\n",
            "Enter Number: \n",
            "10\n",
            "The sum of the numbers less than 5:  10\n"
          ]
        }
      ]
    },
    {
      "cell_type": "markdown",
      "source": [
        "##Problem Statement No. 2\n",
        "Create a Python program that will produce accept five numbers and determine the sum of first and last number among the five numbers entered using WHILE LOOP."
      ],
      "metadata": {
        "id": "vQQggg0u3IGO"
      }
    },
    {
      "cell_type": "code",
      "source": [
        "#INPUT\n",
        "a=int(input(\"First Number: \"))\n",
        "b=int(input(\"Second Number: \"))\n",
        "c=int(input(\"Third Number: \"))\n",
        "d=int(input(\"Fourth Number: \"))\n",
        "e=int(input(\"Fifth Number: \"))\n",
        "#PROCESS AND OUTPUT\n",
        "while a+e:\n",
        "    print(a+e) #Operation to get the Sum of the First and Last Number\n",
        "    break\n"
      ],
      "metadata": {
        "colab": {
          "base_uri": "https://localhost:8080/"
        },
        "id": "8CcJsSIL55xs",
        "outputId": "8b375ecf-bd82-464c-8215-f27efc4d36a0"
      },
      "execution_count": null,
      "outputs": [
        {
          "output_type": "stream",
          "name": "stdout",
          "text": [
            "First Number: 1\n",
            "Second Number: 2\n",
            "Third Number: 3\n",
            "Fourth Number: 4\n",
            "Fifth Number: 5\n",
            "6\n"
          ]
        }
      ]
    },
    {
      "cell_type": "markdown",
      "source": [
        "##Problem Statement No.3\n",
        "Create a Python program to calculate student grades. It accepts a numerical grade as inputand it will display the character grade as output based on the given scale: (Use Nested-IF-Else statement)."
      ],
      "metadata": {
        "id": "m-Ns8Ofr2zmt"
      }
    },
    {
      "cell_type": "code",
      "source": [
        "#INPUT\n",
        "Grade=int(input(\"Numerical Grade: \"))\n",
        "\n",
        "#PROCESS and OUTPUT\n",
        "if Grade >=0:\n",
        "  if Grade>=90:\n",
        "    print(\"The Character Grade is A\")\n",
        "  else:\n",
        "    if Grade>=80 and Grade<=89:\n",
        "      print(\"The Character Grade is B\")\n",
        "    else:\n",
        "      if Grade>=70 and Grade<=79:\n",
        "        print(\"The Character Grade is C\")\n",
        "      else:\n",
        "        if Grade>=60 and Grade<=69:\n",
        "          print(\"The Character Grade is D\")\n",
        "        else:\n",
        "          print(\"The Character Grade is F\")\n"
      ],
      "metadata": {
        "colab": {
          "base_uri": "https://localhost:8080/"
        },
        "id": "FmHva0_90jbz",
        "outputId": "a81d9954-d25c-4367-a38a-f3118909ba3b"
      },
      "execution_count": 13,
      "outputs": [
        {
          "output_type": "stream",
          "name": "stdout",
          "text": [
            "Numerical Grade: 75\n",
            "The Character Grade is C\n"
          ]
        }
      ]
    }
  ]
}