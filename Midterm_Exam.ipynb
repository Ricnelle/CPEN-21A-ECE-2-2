{
  "nbformat": 4,
  "nbformat_minor": 0,
  "metadata": {
    "colab": {
      "name": "Midterm Exam.ipynb",
      "provenance": [],
      "authorship_tag": "ABX9TyNGTgoZOe3MaRew3YDSoS9n",
      "include_colab_link": true
    },
    "kernelspec": {
      "name": "python3",
      "display_name": "Python 3"
    },
    "language_info": {
      "name": "python"
    }
  },
  "cells": [
    {
      "cell_type": "markdown",
      "metadata": {
        "id": "view-in-github",
        "colab_type": "text"
      },
      "source": [
        "<a href=\"https://colab.research.google.com/github/Ricnelle/CPEN-21A-ECE-2-2/blob/main/Midterm_Exam.ipynb\" target=\"_parent\"><img src=\"https://colab.research.google.com/assets/colab-badge.svg\" alt=\"Open In Colab\"/></a>"
      ]
    },
    {
      "cell_type": "markdown",
      "metadata": {
        "id": "2KXxLwAhrJaV"
      },
      "source": [
        "#Midterm Exam"
      ]
    },
    {
      "cell_type": "markdown",
      "metadata": {
        "id": "6xX7Mt6KuN_c"
      },
      "source": [
        "###PROBLEM STATEMENT 1."
      ]
    },
    {
      "cell_type": "code",
      "metadata": {
        "colab": {
          "base_uri": "https://localhost:8080/"
        },
        "id": "4t-rmVJurNN2",
        "outputId": "09ea1e49-df37-4c42-ba2c-3f3ace49773f"
      },
      "source": [
        "#INPUT\n",
        "a=\"Full Name: \"\n",
        "A=\"Ricnelle Lopez Macalindong\"\n",
        "b=\"Student Number: \" \n",
        "B=\"202014577\"\n",
        "c=\"Age: \"\n",
        "C=\"19\"\n",
        "d=\"Birthday: \"\n",
        "D=\"April 03,2002\"\n",
        "e=\"Address: \"\n",
        "E=\"Block 08, Lot 14, Regina Ville 2000, Inocencio, Trece Martires City, Cavite\"\n",
        "f=\"Course: \"\n",
        "F=\"Bachelor of Science in Electronics and Communications Engineering\"\n",
        "g=\"Last Sem GWA: \"\n",
        "G=\"1.36\"\n",
        "#PROCESS\n",
        "print(a+A)  #This is for the Full name\n",
        "print(b+B)  #This is for the Student Number\n",
        "print(c+C)  #This is for the Age\n",
        "print(d+D)  #This is for the Birthday\n",
        "print(e+E)  #This is for the Address\n",
        "print(f+F)  #This is for the Course\n",
        "print(g+G)  #This is for the Last Sem GWA"
      ],
      "execution_count": 52,
      "outputs": [
        {
          "output_type": "stream",
          "name": "stdout",
          "text": [
            "Full Name: Ricnelle Lopez Macalindong\n",
            "Student Number: 202014577\n",
            "Age: 19\n",
            "Birthday: April 03,2002\n",
            "Address: Block 08, Lot 14, Regina Ville 2000, Inocencio, Trece Martires City, Cavite\n",
            "Course: Bachelor of Science in Electronics and Communications Engineering\n",
            "Last Sem GWA: 1.36\n"
          ]
        }
      ]
    },
    {
      "cell_type": "markdown",
      "metadata": {
        "id": "tNiydrQYuSRn"
      },
      "source": [
        "###PROBLEM STATEMENT 2."
      ]
    },
    {
      "cell_type": "code",
      "metadata": {
        "colab": {
          "base_uri": "https://localhost:8080/"
        },
        "id": "25ZySmCDuWL6",
        "outputId": "bed8caaa-9535-414b-c07f-1857ccef339b"
      },
      "source": [
        "#INPUT\n",
        "n = 4                                  #To satisfy the first case\n",
        "answ= \"Y\"                              #To satisfy the second case\n",
        "#PROCESS\n",
        "print(2<n) and (n<6)                   #This is for letter a\n",
        "print(2<n) or (n==6)                   #This is for letter b\n",
        "print(not(2<n) or (n==6))              #This is for letter c\n",
        "print(not(n<6))                        #This is for letter d\n",
        "print((answ==\"Y\") or (answ==\"y\"))        #This is for letter e\n",
        "print((answ==\"Y\") and (answ==\"y\"))       #This is for letter f\n",
        "print(not(answ==\"y\"))                  #This is for letter g\n",
        "print(((2<n) and (n==5+1))or(answ==\"No\")) #This is for letter h\n",
        "print(((n==2) and (n==7))or(answ==\"Y\"))   #This is for letter i\n",
        "print((n==2)and((n==7)or(answ==\"Y\")))     #This is for letter j"
      ],
      "execution_count": 51,
      "outputs": [
        {
          "output_type": "stream",
          "name": "stdout",
          "text": [
            "True\n",
            "True\n",
            "False\n",
            "False\n",
            "True\n",
            "False\n",
            "True\n",
            "False\n",
            "True\n",
            "False\n"
          ]
        }
      ]
    },
    {
      "cell_type": "markdown",
      "metadata": {
        "id": "5_Qr-mQXzsWp"
      },
      "source": [
        "###PROBLEM STATEMENT 3."
      ]
    },
    {
      "cell_type": "code",
      "metadata": {
        "colab": {
          "base_uri": "https://localhost:8080/"
        },
        "id": "Erj1PLBa0ENe",
        "outputId": "0f69eddc-176c-4dc7-fa5c-1f7a231c8eaf"
      },
      "source": [
        "#INPUT\n",
        "x = 2\n",
        "y = -3\n",
        "w = 7\n",
        "z= -10\n",
        "#PROCESS\n",
        "print(x/y)                   #This Problem Statement 3 letter a\n",
        "print(w/y/x)                 #This Problem Statement 3 letter b\n",
        "print(z/y%x)                 #This Problem Statement 3 letter c\n",
        "print(x%-y*w)                #This Problem Statement 3 letter d\n",
        "print(x%y)                   #This Problem Statement 3 letter e\n",
        "print(z%w-y/x*5+5)           #This Problem Statement 3 letter f\n",
        "print(9-x%(2+y))             #This Problem Statement 3 letter g\n",
        "print(z//w)                  #This Problem Statement 3 letter h\n",
        "print((2+y)**2)              #This Problem Statement 3 letter i\n",
        "print(w/x*2)                 #This Problem Statement 3 letter j"
      ],
      "execution_count": 48,
      "outputs": [
        {
          "output_type": "stream",
          "name": "stdout",
          "text": [
            "-0.6666666666666666\n",
            "-1.1666666666666667\n",
            "1.3333333333333335\n",
            "14\n",
            "-1\n",
            "16.5\n",
            "9\n",
            "-2\n",
            "1\n",
            "7.0\n"
          ]
        }
      ]
    }
  ]
}